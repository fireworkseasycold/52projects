{
 "cells": [
  {
   "cell_type": "code",
   "execution_count": 1,
   "metadata": {},
   "outputs": [
    {
     "data": {
      "text/plain": [
       "['F:\\\\pythonpic52projects\\\\52projects\\\\1.图像拼接',\n",
       " 'F:\\\\Anaconda3\\\\python37.zip',\n",
       " 'F:\\\\Anaconda3\\\\DLLs',\n",
       " 'F:\\\\Anaconda3\\\\lib',\n",
       " 'F:\\\\Anaconda3',\n",
       " '',\n",
       " 'F:\\\\Anaconda3\\\\lib\\\\site-packages',\n",
       " 'F:\\\\Anaconda3\\\\lib\\\\site-packages\\\\win32',\n",
       " 'F:\\\\Anaconda3\\\\lib\\\\site-packages\\\\win32\\\\lib',\n",
       " 'F:\\\\Anaconda3\\\\lib\\\\site-packages\\\\Pythonwin',\n",
       " 'F:\\\\Anaconda3\\\\lib\\\\site-packages\\\\IPython\\\\extensions',\n",
       " 'C:\\\\Users\\\\gly\\\\.ipython']"
      ]
     },
     "execution_count": 1,
     "metadata": {},
     "output_type": "execute_result"
    }
   ],
   "source": [
    "import sys\n",
    "sys.path"
   ]
  },
  {
   "cell_type": "code",
   "execution_count": null,
   "metadata": {},
   "outputs": [],
   "source": [
    "import cv2"
   ]
  },
  {
   "cell_type": "code",
   "execution_count": null,
   "metadata": {},
   "outputs": [],
   "source": [
    "bg=cv2.imread('image/background.jpg',cv2.IMREAD_COLOR)\n",
    "bg=cv2.imshow('bg')\n",
    "fg=cv2.imread('image/foreground.jpg',cv2.IMREAD_COLOR)"
   ]
  },
  {
   "cell_type": "code",
   "execution_count": null,
   "metadata": {},
   "outputs": [],
   "source": [
    "bg.shape"
   ]
  },
  {
   "cell_type": "code",
   "execution_count": null,
   "metadata": {},
   "outputs": [],
   "source": []
  }
 ],
 "metadata": {
  "kernelspec": {
   "display_name": "Python 3",
   "language": "python",
   "name": "python3"
  },
  "language_info": {
   "codemirror_mode": {
    "name": "ipython",
    "version": 3
   },
   "file_extension": ".py",
   "mimetype": "text/x-python",
   "name": "python",
   "nbconvert_exporter": "python",
   "pygments_lexer": "ipython3",
   "version": "3.7.6"
  }
 },
 "nbformat": 4,
 "nbformat_minor": 4
}
