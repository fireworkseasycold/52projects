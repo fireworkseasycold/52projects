{
 "cells": [
  {
   "cell_type": "code",
   "execution_count": 1,
   "id": "08de5979",
   "metadata": {},
   "outputs": [
    {
     "data": {
      "text/plain": [
       "['',\n",
       " 'F:\\\\Anaconda3\\\\envs\\\\52projects-1\\\\python36.zip',\n",
       " 'F:\\\\Anaconda3\\\\envs\\\\52projects-1\\\\DLLs',\n",
       " 'F:\\\\Anaconda3\\\\envs\\\\52projects-1\\\\lib',\n",
       " 'F:\\\\Anaconda3\\\\envs\\\\52projects-1',\n",
       " 'F:\\\\Anaconda3\\\\envs\\\\52projects-1\\\\lib\\\\site-packages',\n",
       " 'F:\\\\Anaconda3\\\\envs\\\\52projects-1\\\\lib\\\\site-packages\\\\win32',\n",
       " 'F:\\\\Anaconda3\\\\envs\\\\52projects-1\\\\lib\\\\site-packages\\\\win32\\\\lib',\n",
       " 'F:\\\\Anaconda3\\\\envs\\\\52projects-1\\\\lib\\\\site-packages\\\\Pythonwin',\n",
       " 'F:\\\\Anaconda3\\\\envs\\\\52projects-1\\\\lib\\\\site-packages\\\\IPython\\\\extensions',\n",
       " 'C:\\\\Users\\\\gly\\\\.ipython']"
      ]
     },
     "execution_count": 1,
     "metadata": {},
     "output_type": "execute_result"
    }
   ],
   "source": [
    "import sys\n",
    "sys.path"
   ]
  },
  {
   "cell_type": "code",
   "execution_count": 2,
   "id": "4d8c4fa8",
   "metadata": {},
   "outputs": [],
   "source": [
    "import cv2\n",
    "#图像导入\n",
    "bg=cv2.imread('images/background.jpg',1) #1是默认参数，代表彩色，0为灰度,-1为包括alpha通道\n",
    "fg=cv2.imread('images/foreground.jpg',1)"
   ]
  },
  {
   "cell_type": "code",
   "execution_count": 3,
   "id": "2c8ac34f",
   "metadata": {},
   "outputs": [
    {
     "data": {
      "text/plain": [
       "(511, 791, 3)"
      ]
     },
     "execution_count": 3,
     "metadata": {},
     "output_type": "execute_result"
    }
   ],
   "source": [
    "bg.shape #垂直，水平，通道"
   ]
  },
  {
   "cell_type": "code",
   "execution_count": 4,
   "id": "34f3d8d7",
   "metadata": {},
   "outputs": [
    {
     "data": {
      "text/plain": [
       "(345, 760, 3)"
      ]
     },
     "execution_count": 4,
     "metadata": {},
     "output_type": "execute_result"
    }
   ],
   "source": [
    "fg.shape"
   ]
  },
  {
   "cell_type": "code",
   "execution_count": 5,
   "id": "648566c9",
   "metadata": {},
   "outputs": [],
   "source": [
    "#调整大小\n",
    "dim=(1200,800)\n",
    "resized_bd=cv2.resize(bg,dim,interpolation=cv2.INTER_AREA) #插值方法使用像素区域关系进行重采样\n",
    "resized_fd=cv2.resize(fg,dim,interpolation=cv2.INTER_AREA)"
   ]
  },
  {
   "cell_type": "code",
   "execution_count": 6,
   "id": "55f02dba",
   "metadata": {
    "scrolled": true
   },
   "outputs": [
    {
     "data": {
      "text/plain": [
       "(800, 1200, 3)"
      ]
     },
     "execution_count": 6,
     "metadata": {},
     "output_type": "execute_result"
    }
   ],
   "source": [
    "resized_bd.shape"
   ]
  },
  {
   "cell_type": "code",
   "execution_count": 7,
   "id": "9ce9694d",
   "metadata": {},
   "outputs": [
    {
     "data": {
      "text/plain": [
       "(800, 1200, 3)"
      ]
     },
     "execution_count": 7,
     "metadata": {},
     "output_type": "execute_result"
    }
   ],
   "source": [
    "resized_fd.shape"
   ]
  },
  {
   "cell_type": "code",
   "execution_count": 9,
   "id": "eae0798b",
   "metadata": {},
   "outputs": [],
   "source": [
    "#混合图像\n",
    "blend=cv2.addWeighted(resized_bd,0.5,resized_fd,0.8,0.0)"
   ]
  },
  {
   "cell_type": "code",
   "execution_count": 15,
   "id": "cf2b8bb7",
   "metadata": {},
   "outputs": [
    {
     "data": {
      "text/plain": [
       "True"
      ]
     },
     "execution_count": 15,
     "metadata": {},
     "output_type": "execute_result"
    }
   ],
   "source": [
    "cv2.imwrite('blended.jpg',blend)"
   ]
  },
  {
   "cell_type": "code",
   "execution_count": 21,
   "id": "a617539a",
   "metadata": {},
   "outputs": [
    {
     "ename": "AttributeError",
     "evalue": "module 'cv2.cv2' has no attribute 'destoryAllWindows'",
     "output_type": "error",
     "traceback": [
      "\u001b[1;31m---------------------------------------------------------------------------\u001b[0m",
      "\u001b[1;31mAttributeError\u001b[0m                            Traceback (most recent call last)",
      "\u001b[1;32m<ipython-input-21-a65d7d135f05>\u001b[0m in \u001b[0;36m<module>\u001b[1;34m()\u001b[0m\n\u001b[0;32m      1\u001b[0m \u001b[0mcv2\u001b[0m\u001b[1;33m.\u001b[0m\u001b[0mimshow\u001b[0m\u001b[1;33m(\u001b[0m\u001b[1;34m'blended'\u001b[0m\u001b[1;33m,\u001b[0m\u001b[0mblend\u001b[0m\u001b[1;33m)\u001b[0m\u001b[1;33m\u001b[0m\u001b[0m\n\u001b[0;32m      2\u001b[0m \u001b[0mcv2\u001b[0m\u001b[1;33m.\u001b[0m\u001b[0mwaitKey\u001b[0m\u001b[1;33m(\u001b[0m\u001b[1;36m0\u001b[0m\u001b[1;33m)\u001b[0m\u001b[1;33m\u001b[0m\u001b[0m\n\u001b[1;32m----> 3\u001b[1;33m \u001b[0mcv2\u001b[0m\u001b[1;33m.\u001b[0m\u001b[0mdestoryAllWindows\u001b[0m\u001b[1;33m(\u001b[0m\u001b[1;33m)\u001b[0m\u001b[1;33m\u001b[0m\u001b[0m\n\u001b[0m",
      "\u001b[1;31mAttributeError\u001b[0m: module 'cv2.cv2' has no attribute 'destoryAllWindows'"
     ]
    }
   ],
   "source": [
    "cv2.imshow('blended',blend)\n",
    "cv2.waitKey(0)\n",
    "cv2.destoryAllWindows()"
   ]
  },
  {
   "cell_type": "code",
   "execution_count": null,
   "id": "02b00727",
   "metadata": {},
   "outputs": [],
   "source": []
  }
 ],
 "metadata": {
  "kernelspec": {
   "display_name": "Python [conda env:52projects-1] *",
   "language": "python",
   "name": "conda-env-52projects-1-py"
  },
  "language_info": {
   "codemirror_mode": {
    "name": "ipython",
    "version": 3
   },
   "file_extension": ".py",
   "mimetype": "text/x-python",
   "name": "python",
   "nbconvert_exporter": "python",
   "pygments_lexer": "ipython3",
   "version": "3.6.3"
  }
 },
 "nbformat": 4,
 "nbformat_minor": 5
}
